{
 "cells": [
  {
   "cell_type": "code",
   "execution_count": 7,
   "metadata": {},
   "outputs": [],
   "source": [
    "import tensorflow as tf\n",
    "import numpy as np\n",
    "import matplotlib.pyplot as plt"
   ]
  },
  {
   "cell_type": "markdown",
   "metadata": {},
   "source": [
    "Define cluster loss. Student's-t distribution with a regularization term (currently commented out)"
   ]
  },
  {
   "cell_type": "code",
   "execution_count": 84,
   "metadata": {},
   "outputs": [],
   "source": [
    "def cluster_loss(z, centers):\n",
    "    z = tf.reshape(z, [tf.shape(z)[0], 1, tf.shape(z)[1]])\n",
    "\n",
    "    centers_r = tf.reshape(centers, [1, tf.shape(centers)[0], tf.shape(centers)[1]])\n",
    "    partial = tf.math.pow(tf.squeeze(tf.norm(z - centers_r, ord='euclidean', axis=2)), 2)\n",
    "    nominator = 1 / (1 + partial)\n",
    "    denominator = tf.math.reduce_sum(1 / (1 + partial), axis=1)\n",
    "    denominator = tf.reshape(denominator, [tf.shape(denominator)[0], 1])\n",
    "    q = nominator / denominator\n",
    "    q_norm = 1 - q\n",
    "    q_norm = tf.math.log(q_norm + 0.00001)  # e for 0 logs\n",
    "    return tf.reduce_sum(q_norm, axis=1) # + tf.reduce_sum(tf.norm(centers, ord='euclidean', axis=1))"
   ]
  },
  {
   "cell_type": "markdown",
   "metadata": {},
   "source": [
    "## First example"
   ]
  },
  {
   "cell_type": "markdown",
   "metadata": {},
   "source": [
    "Dummy centers and z's"
   ]
  },
  {
   "cell_type": "code",
   "execution_count": 9,
   "metadata": {},
   "outputs": [],
   "source": [
    "c = [[0], [1]]\n",
    "c = np.array(c, dtype=np.float32)"
   ]
  },
  {
   "cell_type": "code",
   "execution_count": 10,
   "metadata": {},
   "outputs": [
    {
     "data": {
      "text/plain": [
       "(2, 1)"
      ]
     },
     "execution_count": 10,
     "metadata": {},
     "output_type": "execute_result"
    }
   ],
   "source": [
    "c.shape"
   ]
  },
  {
   "cell_type": "code",
   "execution_count": 11,
   "metadata": {},
   "outputs": [],
   "source": [
    "z = [[0.2], [0.4], [0.6], [0.7]]\n",
    "z = np.array(z, dtype=np.float32)"
   ]
  },
  {
   "cell_type": "code",
   "execution_count": 12,
   "metadata": {},
   "outputs": [
    {
     "data": {
      "text/plain": [
       "(4, 1)"
      ]
     },
     "execution_count": 12,
     "metadata": {},
     "output_type": "execute_result"
    }
   ],
   "source": [
    "z.shape"
   ]
  },
  {
   "cell_type": "markdown",
   "metadata": {},
   "source": [
    "Calculate loss and print values"
   ]
  },
  {
   "cell_type": "code",
   "execution_count": 12,
   "metadata": {},
   "outputs": [],
   "source": [
    "loss = cluster_loss(z, c)"
   ]
  },
  {
   "cell_type": "code",
   "execution_count": 13,
   "metadata": {},
   "outputs": [
    {
     "data": {
      "text/plain": [
       "TensorShape([4])"
      ]
     },
     "execution_count": 13,
     "metadata": {},
     "output_type": "execute_result"
    }
   ],
   "source": [
    "loss.shape"
   ]
  },
  {
   "cell_type": "code",
   "execution_count": 21,
   "metadata": {},
   "outputs": [
    {
     "data": {
      "text/plain": [
       "Text(0.5, 1.0, 'centers=[0.], [1.]')"
      ]
     },
     "execution_count": 21,
     "metadata": {},
     "output_type": "execute_result"
    },
    {
     "data": {
      "image/png": "[encoded data removed]",
      "text/plain": [
       "<Figure size 432x288 with 1 Axes>"
      ]
     },
     "metadata": {
      "needs_background": "light"
     },
     "output_type": "display_data"
    }
   ],
   "source": [
    "plt.scatter(z, loss)\n",
    "plt.xlabel('z')\n",
    "plt.ylabel('loss')\n",
    "plt.title('centers={}, {}'.format(c[0], c[1]))"
   ]
  },
  {
   "cell_type": "markdown",
   "metadata": {},
   "source": [
    "## Second example"
   ]
  },
  {
   "cell_type": "code",
   "execution_count": 5,
   "metadata": {},
   "outputs": [],
   "source": [
    "c = [[0, 0, 0, 0], [1, 1, 1, 1]]\n",
    "c = np.array(c, dtype=np.float32)\n",
    "z = [[0.2, 0.2, 0.2, 0.2], [0.1, 0.4, 0.3, 0.6], [0.8, 0.8, 0.4, 0.5], [0.5, 0.9, 0.4, 0.5], [0.5, 0.5, 0.5, 0.5]]\n",
    "z = np.array(z, dtype=np.float32)"
   ]
  },
  {
   "cell_type": "markdown",
   "metadata": {},
   "source": [
    "Calculate loss and print values with respect to norm z"
   ]
  },
  {
   "cell_type": "code",
   "execution_count": 57,
   "metadata": {},
   "outputs": [],
   "source": [
    "loss = cluster_loss(z, c)"
   ]
  },
  {
   "cell_type": "code",
   "execution_count": 58,
   "metadata": {},
   "outputs": [
    {
     "data": {
      "text/plain": [
       "Text(0.5, 1.0, 'centers=[0. 0. 0. 0.], [1. 1. 1. 1.]')"
      ]
     },
     "execution_count": 58,
     "metadata": {},
     "output_type": "execute_result"
    },
    {
     "data": {
      "image/png": "[encoded data removed]",
      "text/plain": [
       "<Figure size 432x288 with 1 Axes>"
      ]
     },
     "metadata": {
      "needs_background": "light"
     },
     "output_type": "display_data"
    }
   ],
   "source": [
    "plt.scatter(tf.norm(z, ord='euclidean', axis=1), loss)\n",
    "plt.xlabel('norm z')\n",
    "plt.ylabel('loss')\n",
    "plt.title('centers={}, {}'.format(c[0], c[1]))"
   ]
  },
  {
   "cell_type": "markdown",
   "metadata": {},
   "source": [
    "## Third example"
   ]
  },
  {
   "cell_type": "code",
   "execution_count": 69,
   "metadata": {},
   "outputs": [],
   "source": [
    "c = [[0, 0], [1, 1]]\n",
    "c = np.array(c, dtype=np.float32)\n",
    "z = [[0.1, 0.2], [0.1, 0.4], [0.8, 0.8], [0.5, 0.9], [0.5, 0.5]]\n",
    "z = np.array(z, dtype=np.float32)"
   ]
  },
  {
   "cell_type": "code",
   "execution_count": 70,
   "metadata": {},
   "outputs": [
    {
     "data": {
      "text/plain": [
       "<tf.Tensor: shape=(5,), dtype=float32, numpy=\n",
       "array([-1.5606002, -1.4801667, -1.5226996, -1.4460692, -1.3862543],\n",
       "      dtype=float32)>"
      ]
     },
     "execution_count": 70,
     "metadata": {},
     "output_type": "execute_result"
    }
   ],
   "source": [
    "loss = cluster_loss(z, c)\n",
    "loss"
   ]
  },
  {
   "cell_type": "code",
   "execution_count": 61,
   "metadata": {},
   "outputs": [
    {
     "data": {
      "text/plain": [
       "Text(0.5, 1.0, 'centers=[0. 0.], [1. 1.]')"
      ]
     },
     "execution_count": 61,
     "metadata": {},
     "output_type": "execute_result"
    },
    {
     "data": {
      "image/png": "[encoded data removed]",
      "text/plain": [
       "<Figure size 432x288 with 1 Axes>"
      ]
     },
     "metadata": {
      "needs_background": "light"
     },
     "output_type": "display_data"
    }
   ],
   "source": [
    "plt.scatter(tf.norm(z, ord='euclidean', axis=1), loss)\n",
    "plt.xlabel('norm z')\n",
    "plt.ylabel('loss')\n",
    "plt.title('centers={}, {}'.format(c[0], c[1]))"
   ]
  },
  {
   "cell_type": "code",
   "execution_count": 65,
   "metadata": {},
   "outputs": [
    {
     "data": {
      "text/plain": [
       "<matplotlib.collections.PathCollection at 0x1630bebad30>"
      ]
     },
     "execution_count": 65,
     "metadata": {},
     "output_type": "execute_result"
    },
    {
     "data": {
      "image/png": "[encoded data removed]",
      "text/plain": [
       "<Figure size 432x288 with 1 Axes>"
      ]
     },
     "metadata": {
      "needs_background": "light"
     },
     "output_type": "display_data"
    }
   ],
   "source": [
    "concat = np.concatenate((z, c))\n",
    "plt.scatter(concat[:, 0], concat[:, 1])"
   ]
  },
  {
   "cell_type": "markdown",
   "metadata": {},
   "source": [
    "# Clustering loss - Cluster centers movement"
   ]
  },
  {
   "cell_type": "markdown",
   "metadata": {},
   "source": [
    "Test whether clustering loss moves centers towards the closest Zs"
   ]
  },
  {
   "cell_type": "code",
   "execution_count": 85,
   "metadata": {},
   "outputs": [],
   "source": [
    "z = tf.constant([[0, 0], [1, 1]], dtype=tf.float32)\n",
    "c = tf.Variable([[0.3, 0.4], [0.7, 0.9]]) # 2 centers with dimension 2"
   ]
  },
  {
   "cell_type": "markdown",
   "metadata": {},
   "source": [
    "Plot initial layout"
   ]
  },
  {
   "cell_type": "code",
   "execution_count": 86,
   "metadata": {},
   "outputs": [
    {
     "data": {
      "text/plain": [
       "Text(0.5, 1.0, 'Embeddings (.) and centers (x)')"
      ]
     },
     "execution_count": 86,
     "metadata": {},
     "output_type": "execute_result"
    },
    {
     "data": {
      "image/png": "[encoded data removed]",
      "text/plain": [
       "<Figure size 432x288 with 1 Axes>"
      ]
     },
     "metadata": {
      "needs_background": "light"
     },
     "output_type": "display_data"
    }
   ],
   "source": [
    "plt.scatter(z[:, 0], z[:, 1], marker='.')\n",
    "plt.scatter(c[:, 0], c[:, 1], marker='x')\n",
    "plt.title('Embeddings (.) and centers (x)')"
   ]
  },
  {
   "cell_type": "markdown",
   "metadata": {},
   "source": [
    "Apply training"
   ]
  },
  {
   "cell_type": "code",
   "execution_count": 87,
   "metadata": {},
   "outputs": [
    {
     "name": "stdout",
     "output_type": "stream",
     "text": [
      "<tf.Variable 'Variable:0' shape=(2, 2) dtype=float32, numpy=\n",
      "array([[0.24926881, 0.34917438],\n",
      "       [0.7506762 , 0.9504692 ]], dtype=float32)>\n"
     ]
    }
   ],
   "source": [
    "optimizer = tf.keras.optimizers.Adam(lr=0.001)\n",
    "for i in range(50):\n",
    "    with tf.GradientTape() as tape:\n",
    "        loss = cluster_loss(z, c)\n",
    "    gradients = tape.gradient(loss, [c])\n",
    "    optimizer.apply_gradients(zip(gradients, [c]))\n",
    "print(c)"
   ]
  },
  {
   "cell_type": "markdown",
   "metadata": {},
   "source": [
    "Re-plot layout to observe changes"
   ]
  },
  {
   "cell_type": "code",
   "execution_count": 88,
   "metadata": {},
   "outputs": [
    {
     "data": {
      "text/plain": [
       "Text(0.5, 1.0, 'Embeddings (.) and centers (x)')"
      ]
     },
     "execution_count": 88,
     "metadata": {},
     "output_type": "execute_result"
    },
    {
     "data": {
      "image/png": "[encoded data removed]",
      "text/plain": [
       "<Figure size 432x288 with 1 Axes>"
      ]
     },
     "metadata": {
      "needs_background": "light"
     },
     "output_type": "display_data"
    }
   ],
   "source": [
    "plt.scatter(z[:, 0], z[:, 1], marker='.')\n",
    "plt.scatter(c[:, 0], c[:, 1], marker='x')\n",
    "plt.title('Embeddings (.) and centers (x)')"
   ]
  },
  {
   "cell_type": "markdown",
   "metadata": {},
   "source": [
    "## Observations:\n",
    "1) Without regularization, the behavior is the desirable. Each center moves towards its closest embedding\n",
    "\n",
    "2) With regularization however, the center at [0.7, 0.9] moves towards the other center. This makes sense as the regularization closes the gap between centers\n",
    "\n",
    "3) Using a factor of 0.3 for the regularization part still reproduces the issue. You have to fall down to 0.1 to observe the expected behavior, but then... what is the purpose of regularization."
   ]
  },
  {
   "cell_type": "markdown",
   "metadata": {},
   "source": [
    "# LOGSUMEXP as smoothmin loss"
   ]
  },
  {
   "cell_type": "code",
   "execution_count": 98,
   "metadata": {},
   "outputs": [],
   "source": [
    "def cluster_loss(z, centers, p=2):\n",
    "    z = tf.reshape(z, [tf.shape(z)[0], 1, tf.shape(z)[1]])\n",
    "\n",
    "    centers_r = tf.reshape(centers, [1, tf.shape(centers)[0], tf.shape(centers)[1]])\n",
    "    f = - (1/p) * tf.math.log(tf.reduce_sum(tf.math.exp(-p * (z - centers_r)), axis=2) + 0.00001)\n",
    "    return tf.reduce_sum(f, axis=1) # + tf.reduce_sum(tf.norm(centers, ord='euclidean', axis=1))"
   ]
  },
  {
   "cell_type": "code",
   "execution_count": 101,
   "metadata": {},
   "outputs": [
    {
     "name": "stdout",
     "output_type": "stream",
     "text": [
      "<tf.Variable 'Variable:0' shape=(2, 2) dtype=float32, numpy=\n",
      "array([[0.39997742, 0.49999917],\n",
      "       [0.7981583 , 1.0000129 ]], dtype=float32)>\n"
     ]
    },
    {
     "data": {
      "text/plain": [
       "Text(0.5, 1.0, 'Embeddings (.) and centers (x)')"
      ]
     },
     "execution_count": 101,
     "metadata": {},
     "output_type": "execute_result"
    },
    {
     "data": {
      "image/png": "[encoded data removed]",
      "text/plain": [
       "<Figure size 432x288 with 1 Axes>"
      ]
     },
     "metadata": {
      "needs_background": "light"
     },
     "output_type": "display_data"
    }
   ],
   "source": [
    "z = tf.constant([[0, 0], [1, 1]], dtype=tf.float32)\n",
    "c = tf.Variable([[0.3, 0.4], [0.7, 0.9]]) # 2 centers with dimension 2\n",
    "\n",
    "optimizer = tf.keras.optimizers.Adam(lr=0.001)\n",
    "for i in range(100):\n",
    "    with tf.GradientTape() as tape:\n",
    "        loss = cluster_loss(z, c, 50)\n",
    "    gradients = tape.gradient(loss, [c])\n",
    "    optimizer.apply_gradients(zip(gradients, [c]))\n",
    "print(c)\n",
    "\n",
    "plt.scatter(z[:, 0], z[:, 1], marker='.')\n",
    "plt.scatter(c[:, 0], c[:, 1], marker='x')\n",
    "plt.title('Embeddings (.) and centers (x)')"
   ]
  },
  {
   "cell_type": "markdown",
   "metadata": {},
   "source": [
    "LOGSUMEXP doesn't work as expected. Both centers seem to move to the same direction"
   ]
  },
  {
   "cell_type": "code",
   "execution_count": null,
   "metadata": {},
   "outputs": [],
   "source": []
  }
 ],
 "metadata": {
  "kernelspec": {
   "display_name": "venv",
   "language": "python",
   "name": "venv"
  },
  "language_info": {
   "codemirror_mode": {
    "name": "ipython",
    "version": 3
   },
   "file_extension": ".py",
   "mimetype": "text/x-python",
   "name": "python",
   "nbconvert_exporter": "python",
   "pygments_lexer": "ipython3",
   "version": "3.6.2"
  }
 },
 "nbformat": 4,
 "nbformat_minor": 2
}
